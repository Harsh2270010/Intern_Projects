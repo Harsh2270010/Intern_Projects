{
 "cells": [
  {
   "cell_type": "code",
   "execution_count": 16,
   "id": "500c24f6",
   "metadata": {},
   "outputs": [
    {
     "name": "stdout",
     "output_type": "stream",
     "text": [
      "all set !\n"
     ]
    }
   ],
   "source": [
    "import numpy as np\n",
    "import pandas as pd\n",
    "import cv2\n",
    "import PIL.Image as Image\n",
    "import os\n",
    "import matplotlib.pyplot as plt\n",
    "import pathlib\n",
    "from tensorflow.keras import Sequential\n",
    "from tensorflow.keras.layers import Dense, Conv2D , MaxPooling2D,Flatten\n",
    "from tensorflow.keras.utils import to_categorical\n",
    "from sklearn.model_selection import train_test_split\n",
    "from tensorflow.keras.models import model_from_json\n",
    "import pickle\n",
    "print(\"all set !\")\n"
   ]
  },
  {
   "cell_type": "code",
   "execution_count": 17,
   "id": "7372c1e9",
   "metadata": {},
   "outputs": [],
   "source": [
    "current_dir = os.getcwd()\n",
    "image_path = os.path.join(current_dir, \"data\", \"img\")\n"
   ]
  },
  {
   "cell_type": "code",
   "execution_count": 18,
   "id": "7c2a189e",
   "metadata": {},
   "outputs": [
    {
     "name": "stdout",
     "output_type": "stream",
     "text": [
      "Total cat images: 70\n",
      "Total dog images: 70\n"
     ]
    }
   ],
   "source": [
    "path_dict = {\"cats\": [], \"dogs\": []}\n",
    "for dir_name in path_dict.keys():\n",
    "    directory_path = os.path.join(image_path, dir_name)\n",
    "    if os.path.isdir(directory_path):\n",
    "        for img_name in os.listdir(directory_path):\n",
    "            img_path = os.path.join(directory_path, img_name)\n",
    "            path_dict[dir_name].append(img_path)\n",
    "\n",
    "print(\"Total cat images:\", len(path_dict[\"cats\"]))\n",
    "print(\"Total dog images:\", len(path_dict[\"dogs\"]))"
   ]
  },
  {
   "cell_type": "code",
   "execution_count": 19,
   "id": "50db6a34",
   "metadata": {},
   "outputs": [
    {
     "name": "stdout",
     "output_type": "stream",
     "text": [
      "Data shape: (140, 64, 64, 3) (140, 2)\n"
     ]
    }
   ],
   "source": [
    "img_size = 64\n",
    "X = []\n",
    "y = []\n",
    "\n",
    "for label, paths in path_dict.items():\n",
    "    for img_path in paths:\n",
    "        try:\n",
    "            img = cv2.imread(img_path)\n",
    "            img = cv2.cvtColor(img, cv2.COLOR_BGR2RGB)\n",
    "            img = cv2.resize(img, (img_size, img_size))\n",
    "            X.append(img)\n",
    "            y.append(0 if label == \"cats\" else 1)  # cats=0, dogs=1\n",
    "        except:\n",
    "            pass  # skip corrupted images\n",
    "\n",
    "X = np.array(X, dtype=\"float32\") / 255.0\n",
    "y = to_categorical(y)\n",
    "\n",
    "print(\"Data shape:\", X.shape, y.shape)\n"
   ]
  },
  {
   "cell_type": "code",
   "execution_count": 20,
   "id": "f2a461db",
   "metadata": {},
   "outputs": [],
   "source": [
    "X_train, X_test, y_train, y_test = train_test_split(X, y, test_size=0.2, random_state=42)"
   ]
  },
  {
   "cell_type": "code",
   "execution_count": 21,
   "id": "5702056d",
   "metadata": {},
   "outputs": [
    {
     "name": "stderr",
     "output_type": "stream",
     "text": [
      "C:\\Users\\verma\\AppData\\Roaming\\Python\\Python311\\site-packages\\keras\\src\\layers\\convolutional\\base_conv.py:107: UserWarning: Do not pass an `input_shape`/`input_dim` argument to a layer. When using Sequential models, prefer using an `Input(shape)` object as the first layer in the model instead.\n",
      "  super().__init__(activity_regularizer=activity_regularizer, **kwargs)\n"
     ]
    }
   ],
   "source": [
    "model = Sequential([\n",
    "    Conv2D(32, (3,3), activation='relu', input_shape=(img_size, img_size, 3)),\n",
    "    MaxPooling2D(2,2),\n",
    "    Conv2D(64, (3,3), activation='relu'),\n",
    "    MaxPooling2D(2,2),\n",
    "    Flatten(),\n",
    "    Dense(128, activation='relu'),\n",
    "    Dense(2, activation='softmax')\n",
    "])\n",
    "\n",
    "model.compile(optimizer='adam', loss='categorical_crossentropy', metrics=['accuracy'])\n"
   ]
  },
  {
   "cell_type": "code",
   "execution_count": 22,
   "id": "9a0ab4ad",
   "metadata": {},
   "outputs": [
    {
     "name": "stdout",
     "output_type": "stream",
     "text": [
      "Epoch 1/5\n",
      "\u001b[1m4/4\u001b[0m \u001b[32m━━━━━━━━━━━━━━━━━━━━\u001b[0m\u001b[37m\u001b[0m \u001b[1m4s\u001b[0m 195ms/step - accuracy: 0.4670 - loss: 1.0290 - val_accuracy: 0.5000 - val_loss: 0.6946\n",
      "Epoch 2/5\n",
      "\u001b[1m4/4\u001b[0m \u001b[32m━━━━━━━━━━━━━━━━━━━━\u001b[0m\u001b[37m\u001b[0m \u001b[1m0s\u001b[0m 96ms/step - accuracy: 0.4996 - loss: 0.6926 - val_accuracy: 0.5000 - val_loss: 0.6928\n",
      "Epoch 3/5\n",
      "\u001b[1m4/4\u001b[0m \u001b[32m━━━━━━━━━━━━━━━━━━━━\u001b[0m\u001b[37m\u001b[0m \u001b[1m0s\u001b[0m 100ms/step - accuracy: 0.5792 - loss: 0.6841 - val_accuracy: 0.4643 - val_loss: 0.6910\n",
      "Epoch 4/5\n",
      "\u001b[1m4/4\u001b[0m \u001b[32m━━━━━━━━━━━━━━━━━━━━\u001b[0m\u001b[37m\u001b[0m \u001b[1m0s\u001b[0m 91ms/step - accuracy: 0.7307 - loss: 0.6732 - val_accuracy: 0.5000 - val_loss: 0.6922\n",
      "Epoch 5/5\n",
      "\u001b[1m4/4\u001b[0m \u001b[32m━━━━━━━━━━━━━━━━━━━━\u001b[0m\u001b[37m\u001b[0m \u001b[1m0s\u001b[0m 109ms/step - accuracy: 0.5607 - loss: 0.6674 - val_accuracy: 0.5000 - val_loss: 0.6951\n"
     ]
    },
    {
     "data": {
      "text/plain": [
       "<keras.src.callbacks.history.History at 0x18a87f2ab50>"
      ]
     },
     "execution_count": 22,
     "metadata": {},
     "output_type": "execute_result"
    }
   ],
   "source": [
    "model.fit(X_train, y_train, epochs=5, validation_data=(X_test, y_test))"
   ]
  },
  {
   "cell_type": "code",
   "execution_count": 23,
   "id": "47866b75",
   "metadata": {},
   "outputs": [
    {
     "name": "stdout",
     "output_type": "stream",
     "text": [
      "Model saved as cat_dog_model.pkl\n"
     ]
    }
   ],
   "source": [
    "model_json = model.to_json()\n",
    "model_weights = model.get_weights()\n",
    "\n",
    "model_dict = {\n",
    "    \"architecture\": model_json,\n",
    "    \"weights\": model_weights\n",
    "}\n",
    "\n",
    "with open(\"cat_dog_model.pkl\", \"wb\") as f:\n",
    "    pickle.dump(model_dict, f)\n",
    "\n",
    "print(\"Model saved as cat_dog_model.pkl\")\n"
   ]
  },
  {
   "cell_type": "code",
   "execution_count": 24,
   "id": "f2d2534e",
   "metadata": {},
   "outputs": [
    {
     "name": "stdout",
     "output_type": "stream",
     "text": [
      "Model loaded from pickle and ready to use.\n"
     ]
    }
   ],
   "source": [
    "with open(\"cat_dog_model.pkl\", \"rb\") as f:\n",
    "    loaded_dict = pickle.load(f)\n",
    "\n",
    "loaded_model = model_from_json(loaded_dict[\"architecture\"])\n",
    "loaded_model.set_weights(loaded_dict[\"weights\"])\n",
    "loaded_model.compile(optimizer='adam', loss='categorical_crossentropy', metrics=['accuracy'])\n",
    "\n",
    "print(\"Model loaded from pickle and ready to use.\")"
   ]
  },
  {
   "cell_type": "code",
   "execution_count": 25,
   "id": "04ffa312",
   "metadata": {},
   "outputs": [
    {
     "name": "stdout",
     "output_type": "stream",
     "text": [
      "\u001b[1m1/1\u001b[0m \u001b[32m━━━━━━━━━━━━━━━━━━━━\u001b[0m\u001b[37m\u001b[0m \u001b[1m0s\u001b[0m 130ms/step\n",
      "Prediction (0=Cat, 1=Dog): 1\n"
     ]
    }
   ],
   "source": [
    "sample_img = X_test[0].reshape(1, img_size, img_size, 3)\n",
    "pred = loaded_model.predict(sample_img)\n",
    "print(\"Prediction (0=Cat, 1=Dog):\", np.argmax(pred))"
   ]
  },
  {
   "cell_type": "code",
   "execution_count": null,
   "id": "342b6b57",
   "metadata": {},
   "outputs": [],
   "source": []
  },
  {
   "cell_type": "code",
   "execution_count": null,
   "id": "fde8bd0b",
   "metadata": {},
   "outputs": [],
   "source": []
  },
  {
   "cell_type": "code",
   "execution_count": null,
   "id": "a7f58df0",
   "metadata": {},
   "outputs": [],
   "source": []
  },
  {
   "cell_type": "code",
   "execution_count": null,
   "id": "69c765ee",
   "metadata": {},
   "outputs": [],
   "source": []
  }
 ],
 "metadata": {
  "kernelspec": {
   "display_name": "Python 3",
   "language": "python",
   "name": "python3"
  },
  "language_info": {
   "codemirror_mode": {
    "name": "ipython",
    "version": 3
   },
   "file_extension": ".py",
   "mimetype": "text/x-python",
   "name": "python",
   "nbconvert_exporter": "python",
   "pygments_lexer": "ipython3",
   "version": "3.11.9"
  }
 },
 "nbformat": 4,
 "nbformat_minor": 5
}
